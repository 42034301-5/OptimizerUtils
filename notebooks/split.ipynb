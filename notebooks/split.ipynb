{
 "cells": [
  {
   "cell_type": "markdown",
   "id": "55b7e4d3-e4d4-40d0-a69a-eb264bdc2d26",
   "metadata": {},
   "source": [
    "# split\n",
    "\n",
    "在编译原理课程项目中，进行基本块切分的部分。"
   ]
  },
  {
   "cell_type": "markdown",
   "id": "44aaa923-3679-48f5-bd73-da02dc2bc2be",
   "metadata": {},
   "source": [
    "## 需要的库\n",
    "\n",
    "- 正则表达式 re\n",
    "- 序列化 json"
   ]
  },
  {
   "cell_type": "code",
   "execution_count": 59,
   "id": "618e8237-c68e-495f-8ec3-028c1f372f7a",
   "metadata": {},
   "outputs": [],
   "source": [
    "import re\n",
    "import json\n",
    "import copy"
   ]
  },
  {
   "cell_type": "markdown",
   "id": "88845129",
   "metadata": {},
   "source": [
    "## 读入json"
   ]
  },
  {
   "cell_type": "code",
   "execution_count": 49,
   "id": "ce913020",
   "metadata": {},
   "outputs": [],
   "source": [
    "filename = \"../examples/vm_src02.json\"\n",
    "vm_src = {}\n",
    "with open(filename, \"r\") as fp:\n",
    "    vm_src = json.load(fp)\n",
    "table = vm_src[\"table\"]\n",
    "code = vm_src[\"code\"]\n",
    "\n",
    "cond_f = {\"==\": lambda x, y: x == y, \"!=\": lambda x, y: x != y, \">=\": lambda x, y: x >=\n",
    "          y, \"<=\": lambda x, y: x <= y, \">\": lambda x, y: x > y, \"<\": lambda x, y: x < y}\n",
    "arith_f = {\"+\": lambda x, y: x+y, \"-\": lambda x, y: x-y, \"*\": lambda x,\n",
    "           y: x*y, \"/\": lambda x, y: x//y, \"%\": lambda x, y: x % y}\n",
    "eserved_word = {\"HALT\", \"=\", \"+\", \"-\", \"*\", \"/\", \"%\", \"?\",\n",
    "                \":\", \"!:\", \">\", \"<\", \">=\", \"<=\", \"==\", \"!=\", \"[\", \"]\"}\n",
    "reg = re.compile('^[0-9]+$')"
   ]
  },
  {
   "cell_type": "markdown",
   "id": "714e33af",
   "metadata": {},
   "source": [
    "## 开始切分基本块\n",
    "\n",
    "先看一眼代码"
   ]
  },
  {
   "cell_type": "code",
   "execution_count": 7,
   "id": "64c90123",
   "metadata": {},
   "outputs": [
    {
     "name": "stdout",
     "output_type": "stream",
     "text": [
      "  0 : I = M - 1\n",
      "  1 : J = N\n",
      "  2 : T_1 = N\n",
      "  3 : V = A [ T_1 ]\n",
      "  4 : I = I + 1\n",
      "  5 : T_2 = I\n",
      "  6 : T_3 = A [ T_2 ]\n",
      "  7 : ? V > T_3 : 4\n",
      "  8 : J = J - 1\n",
      "  9 : T_4 = J\n",
      " 10 : T_5 = A [ T_4 ]\n",
      " 11 : ? T_5 > V : 8\n",
      " 12 : ? J <= I : 22\n",
      " 13 : T_6 = I\n",
      " 14 : X = A [ T_6 ]\n",
      " 15 : T_7 = I\n",
      " 16 : T_8 = J\n",
      " 17 : T_9 = A [ T_8 ]\n",
      " 18 : A [ T_7 ] = T_9\n",
      " 19 : T_10 = J\n",
      " 20 : A [ T_10 ] = X\n",
      " 21 : !: 4\n",
      " 22 : T_11 = I\n",
      " 23 : X = A [ T_11 ]\n",
      " 24 : T_12 = J\n",
      " 25 : T_13 = N\n",
      " 26 : T_14 = A [ T_13 ]\n",
      " 27 : A [ T_12 ] = T_14\n",
      " 28 : T_15 = N\n",
      " 29 : A [ T_15 ] = X\n",
      " 30 : HALT\n"
     ]
    }
   ],
   "source": [
    "for i,line in enumerate(code):\n",
    "    print(\"{:3d} : {}\".format(i,line)) "
   ]
  },
  {
   "cell_type": "code",
   "execution_count": 9,
   "id": "6f641f74",
   "metadata": {},
   "outputs": [
    {
     "name": "stdout",
     "output_type": "stream",
     "text": [
      "[4, 8, 22, 4]\n",
      "[8, 12, 13, 22]\n"
     ]
    }
   ],
   "source": [
    "table = vm_src[\"table\"]\n",
    "code = vm_src[\"code\"]\n",
    "jump_targets = [table[i.split(\" \")[-1]][\"val\"] for i in code if i.split(\" \")[0] in {\"?\",\"!:\"}]\n",
    "after_jump = [n+1 for n,i in enumerate(code) if i.split(\" \")[0] in {\"?\",\"!:\"}]\n",
    "print(jump_targets)\n",
    "print(after_jump)"
   ]
  },
  {
   "cell_type": "code",
   "execution_count": 32,
   "id": "9e8cdbe7",
   "metadata": {},
   "outputs": [
    {
     "name": "stdout",
     "output_type": "stream",
     "text": [
      "[0, 4, 8, 12, 13, 22, 31]\n",
      "[(0, 3), (4, 7), (8, 11), (12, 12), (13, 21), (22, 30)]\n",
      "{0: 0, 4: 1, 8: 2, 12: 3, 13: 4, 22: 5}\n"
     ]
    }
   ],
   "source": [
    "split_points = list(set([0]+jump_targets+after_jump+[len(code)]))\n",
    "split_points = sorted(split_points)\n",
    "print(sorted(split_points))\n",
    "blocks_linenum = [(split_points[i-1],split_points[i]-1) for i in range(1,len(split_points))]\n",
    "intro_block = {i[0]:n for n,i in enumerate(blocks_linenum)}\n",
    "print(blocks_linenum)\n",
    "print(intro_block)"
   ]
  },
  {
   "cell_type": "code",
   "execution_count": 29,
   "id": "3c3f9e80",
   "metadata": {},
   "outputs": [
    {
     "name": "stdout",
     "output_type": "stream",
     "text": [
      "#BLOCK   0\n",
      "  0 : I = M - 1\n",
      "  1 : J = N\n",
      "  2 : T_1 = N\n",
      "  3 : V = A [ T_1 ]\n",
      "\n",
      "#BLOCK   1\n",
      "  4 : I = I + 1\n",
      "  5 : T_2 = I\n",
      "  6 : T_3 = A [ T_2 ]\n",
      "  7 : ? V > T_3 : 4\n",
      "\n",
      "#BLOCK   2\n",
      "  8 : J = J - 1\n",
      "  9 : T_4 = J\n",
      " 10 : T_5 = A [ T_4 ]\n",
      " 11 : ? T_5 > V : 8\n",
      "\n",
      "#BLOCK   3\n",
      " 12 : ? J <= I : 22\n",
      "\n",
      "#BLOCK   4\n",
      " 13 : T_6 = I\n",
      " 14 : X = A [ T_6 ]\n",
      " 15 : T_7 = I\n",
      " 16 : T_8 = J\n",
      " 17 : T_9 = A [ T_8 ]\n",
      " 18 : A [ T_7 ] = T_9\n",
      " 19 : T_10 = J\n",
      " 20 : A [ T_10 ] = X\n",
      " 21 : !: 4\n",
      "\n",
      "#BLOCK   5\n",
      " 22 : T_11 = I\n",
      " 23 : X = A [ T_11 ]\n",
      " 24 : T_12 = J\n",
      " 25 : T_13 = N\n",
      " 26 : T_14 = A [ T_13 ]\n",
      " 27 : A [ T_12 ] = T_14\n",
      " 28 : T_15 = N\n",
      " 29 : A [ T_15 ] = X\n",
      " 30 : HALT\n",
      "\n"
     ]
    }
   ],
   "source": [
    "for n,b in enumerate(blocks_linenum):\n",
    "    print(\"#BLOCK {:3d}\".format(n))\n",
    "    for i in range(b[0],b[1]+1):\n",
    "        print(\"{:3d} : {}\".format(i,code[i])) \n",
    "    print()\n",
    "        "
   ]
  },
  {
   "cell_type": "code",
   "execution_count": 46,
   "id": "21c66227",
   "metadata": {},
   "outputs": [
    {
     "data": {
      "text/plain": [
       "{'summary': {'total_blocks': 6},\n",
       " 'blocks': {0: {'line_num': (0, 3),\n",
       "   'next': (1, None),\n",
       "   'code': ['I = M - 1', 'J = N', 'T_1 = N', 'V = A [ T_1 ]']},\n",
       "  1: {'line_num': (4, 7),\n",
       "   'next': (2, 1),\n",
       "   'code': ['I = I + 1', 'T_2 = I', 'T_3 = A [ T_2 ]', '? V > T_3 : 4']},\n",
       "  2: {'line_num': (8, 11),\n",
       "   'next': (3, 2),\n",
       "   'code': ['J = J - 1', 'T_4 = J', 'T_5 = A [ T_4 ]', '? T_5 > V : 8']},\n",
       "  3: {'line_num': (12, 12), 'next': (4, 5), 'code': ['? J <= I : 22']},\n",
       "  4: {'line_num': (13, 21),\n",
       "   'next': (1, None),\n",
       "   'code': ['T_6 = I',\n",
       "    'X = A [ T_6 ]',\n",
       "    'T_7 = I',\n",
       "    'T_8 = J',\n",
       "    'T_9 = A [ T_8 ]',\n",
       "    'A [ T_7 ] = T_9',\n",
       "    'T_10 = J',\n",
       "    'A [ T_10 ] = X',\n",
       "    '!: 4']},\n",
       "  5: {'line_num': (22, 30),\n",
       "   'next': (None, None),\n",
       "   'code': ['T_11 = I',\n",
       "    'X = A [ T_11 ]',\n",
       "    'T_12 = J',\n",
       "    'T_13 = N',\n",
       "    'T_14 = A [ T_13 ]',\n",
       "    'A [ T_12 ] = T_14',\n",
       "    'T_15 = N',\n",
       "    'A [ T_15 ] = X',\n",
       "    'HALT']}}}"
      ]
     },
     "execution_count": 46,
     "metadata": {},
     "output_type": "execute_result"
    }
   ],
   "source": [
    "blocks = {\"summary\":{},\"blocks\":{}}\n",
    "blocks[\"summary\"] = {\"total_blocks\":len(blocks_linenum)}\n",
    "for n,b in enumerate(blocks_linenum):\n",
    "    nxt = [None,None]\n",
    "    if code[b[1]].split(\" \")[0] == \"!:\":\n",
    "        nxt[0]=intro_block[table[code[b[1]].split(\" \")[1]][\"val\"]]\n",
    "    elif code[b[1]].split(\" \")[0] == \"?\":\n",
    "        nxt[1]=intro_block[table[code[b[1]].split(\" \")[5]][\"val\"]]\n",
    "        nxt[0]=n+1\n",
    "    elif code[b[1]]==\"HALT\":\n",
    "        pass\n",
    "    else:\n",
    "        nxt[0]=n+1\n",
    "    blocks[\"blocks\"][n]={\"line_num\":b,\"next\":tuple(nxt),\"code\":code[b[0]:b[1]+1]}\n",
    "blocks"
   ]
  },
  {
   "cell_type": "code",
   "execution_count": 62,
   "id": "f29bf0eb",
   "metadata": {},
   "outputs": [
    {
     "name": "stdout",
     "output_type": "stream",
     "text": [
      "0 {'I', 'J', 'V', 'T_1'} {'N', 'M', 'A'}\n",
      "1 {'T_2', 'T_3'} {'I', 'A', 'V'}\n",
      "2 {'T_5', 'T_4'} {'V', 'A', 'J'}\n",
      "3 set() {'I', 'J'}\n",
      "4 {'T_6', 'T_8', 'T_7', 'X', 'T_10', 'T_9'} {'I', 'A', 'J'}\n",
      "5 {'T_12', 'T_13', 'T_14', 'X', 'T_15', 'T_11'} {'I', 'A', 'N', 'J'}\n"
     ]
    }
   ],
   "source": [
    "for n,b in blocks[\"blocks\"].items():\n",
    "    blines = b[\"code\"]\n",
    "    used = []\n",
    "    defd = []\n",
    "    for s in blines:\n",
    "        symbols = s.split(\" \")\n",
    "        if \"=\" in symbols:\n",
    "            if len(symbols) == 3:\n",
    "                if (symbols[2] not in used) and (symbols[2] not in defd):\n",
    "                    used.append(symbols[2])\n",
    "                if (symbols[0] not in used) and (symbols[0] not in defd):\n",
    "                    defd.append(symbols[0])\n",
    "            elif symbols[3] == \"]\":\n",
    "                if (symbols[2] not in used) and (symbols[2] not in defd):\n",
    "                    used.append(symbols[2])\n",
    "                if (symbols[5] not in used) and (symbols[5] not in defd):\n",
    "                    used.append(symbols[5])\n",
    "                if (symbols[0] not in used) and (symbols[0] not in defd):\n",
    "                    defd.append(symbols[0])\n",
    "            elif symbols[3] == \"[\":\n",
    "                if (symbols[2] not in used) and (symbols[2] not in defd):\n",
    "                    used.append(symbols[2])\n",
    "                if (symbols[4] not in used) and (symbols[4] not in defd):\n",
    "                    used.append(symbols[4])\n",
    "                if (symbols[0] not in used) and (symbols[0] not in defd):\n",
    "                    defd.append(symbols[0])\n",
    "\n",
    "            elif symbols[3] in arith_f:\n",
    "                if (symbols[2] not in used) and (symbols[2] not in defd):\n",
    "                    used.append(symbols[2])\n",
    "                if (symbols[4] not in used) and (symbols[4] not in defd):\n",
    "                    used.append(symbols[4])\n",
    "                if (symbols[0] not in used) and (symbols[0] not in defd):\n",
    "                    defd.append(symbols[0])\n",
    "        elif \"?\" in symbols:\n",
    "                if (symbols[1] not in used) and (symbols[1] not in defd):\n",
    "                    used.append(symbols[1])\n",
    "                if (symbols[3] not in used) and (symbols[3] not in defd):\n",
    "                    used.append(symbols[3])\n",
    "    used = [i for i in used if reg.match(i)==None]\n",
    "    defd = [i for i in defd if reg.match(i)==None]\n",
    "    \n",
    "    blocks[\"blocks\"][n][\"defd\"] = set(defd)\n",
    "    blocks[\"blocks\"][n][\"used\"] = set(used)\n",
    "    blocks[\"blocks\"][n][\"in\"] = set([])\n",
    "    blocks[\"blocks\"][n][\"out\"] = set([])\n",
    "    print(n,blocks[\"blocks\"][n][\"defd\"],blocks[\"blocks\"][n][\"used\"])"
   ]
  },
  {
   "cell_type": "code",
   "execution_count": 75,
   "id": "3a02888f",
   "metadata": {},
   "outputs": [
    {
     "name": "stdout",
     "output_type": "stream",
     "text": [
      "1\n",
      "2\n",
      "3\n",
      "4\n",
      "5\n"
     ]
    }
   ],
   "source": [
    "flag = True\n",
    "i = 0\n",
    "while flag:\n",
    "    flag = False\n",
    "    i+=1\n",
    "    print(i)\n",
    "    \n",
    "    for n,b in blocks[\"blocks\"].items():\n",
    "        inset = copy.deepcopy(blocks[\"blocks\"][n][\"in\"])\n",
    "        inset_ori = copy.deepcopy(blocks[\"blocks\"][n][\"in\"])\n",
    "        outset = copy.deepcopy(blocks[\"blocks\"][n][\"out\"])\n",
    "        if b[\"next\"][0]!=None:\n",
    "            outset = outset | blocks[\"blocks\"][b[\"next\"][0]][\"in\"]\n",
    "        if b[\"next\"][1]!=None:\n",
    "            outset = outset | blocks[\"blocks\"][b[\"next\"][1]][\"in\"]\n",
    "        inset = blocks[\"blocks\"][n][\"used\"] | (outset - blocks[\"blocks\"][n][\"defd\"])\n",
    "        blocks[\"blocks\"][n][\"in\"] = inset\n",
    "        blocks[\"blocks\"][n][\"out\"] = outset\n",
    "        if (inset!=inset_ori):\n",
    "            flag = True"
   ]
  },
  {
   "cell_type": "code",
   "execution_count": 76,
   "id": "caa8611b",
   "metadata": {},
   "outputs": [
    {
     "name": "stdout",
     "output_type": "stream",
     "text": [
      "0 {'N', 'M', 'A'} {'I', 'N', 'V', 'A', 'J'}\n",
      "1 {'I', 'N', 'V', 'A', 'J'} {'I', 'N', 'V', 'A', 'J'}\n",
      "2 {'I', 'N', 'V', 'A', 'J'} {'I', 'N', 'V', 'A', 'J'}\n",
      "3 {'I', 'N', 'J', 'V', 'A'} {'I', 'N', 'V', 'A', 'J'}\n",
      "4 {'I', 'N', 'V', 'A', 'J'} {'I', 'N', 'V', 'A', 'J'}\n",
      "5 {'I', 'A', 'N', 'J'} set()\n"
     ]
    }
   ],
   "source": [
    "for n,b in blocks[\"blocks\"].items():\n",
    "    print(n,blocks[\"blocks\"][n][\"in\"],blocks[\"blocks\"][n][\"out\"])"
   ]
  },
  {
   "cell_type": "code",
   "execution_count": null,
   "id": "d02ae802",
   "metadata": {},
   "outputs": [],
   "source": []
  }
 ],
 "metadata": {
  "kernelspec": {
   "display_name": "Python 3 (ipykernel)",
   "language": "python",
   "name": "python3"
  },
  "language_info": {
   "codemirror_mode": {
    "name": "ipython",
    "version": 3
   },
   "file_extension": ".py",
   "mimetype": "text/x-python",
   "name": "python",
   "nbconvert_exporter": "python",
   "pygments_lexer": "ipython3",
   "version": "3.9.7"
  }
 },
 "nbformat": 4,
 "nbformat_minor": 5
}
