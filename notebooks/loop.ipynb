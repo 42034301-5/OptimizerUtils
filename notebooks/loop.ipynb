{
 "cells": [
  {
   "cell_type": "markdown",
   "id": "55b7e4d3-e4d4-40d0-a69a-eb264bdc2d26",
   "metadata": {},
   "source": [
    "# loop\n",
    "\n",
    "在编译原理课程项目中，进行自然循环识别的代码。"
   ]
  },
  {
   "cell_type": "markdown",
   "id": "44aaa923-3679-48f5-bd73-da02dc2bc2be",
   "metadata": {},
   "source": [
    "## 需要的库\n",
    "\n",
    "- 正则表达式 re\n",
    "- 序列化 json"
   ]
  },
  {
   "cell_type": "code",
   "execution_count": 1,
   "id": "618e8237-c68e-495f-8ec3-028c1f372f7a",
   "metadata": {},
   "outputs": [],
   "source": [
    "import re\n",
    "import json\n",
    "import copy"
   ]
  },
  {
   "cell_type": "markdown",
   "id": "88845129",
   "metadata": {},
   "source": [
    "## 读入json"
   ]
  },
  {
   "cell_type": "code",
   "execution_count": 25,
   "id": "ce913020",
   "metadata": {},
   "outputs": [],
   "source": [
    "filename = \"../examples/vm_src03_blk.json\"\n",
    "vm_blk = {}\n",
    "with open(filename, \"r\") as fp:\n",
    "    vm_blk = json.load(fp)\n",
    "blocks = vm_blk[\"blocks\"]\n",
    "\n",
    "cond_f = {\"==\": lambda x, y: x == y, \"!=\": lambda x, y: x != y, \">=\": lambda x, y: x >=\n",
    "          y, \"<=\": lambda x, y: x <= y, \">\": lambda x, y: x > y, \"<\": lambda x, y: x < y}\n",
    "arith_f = {\"+\": lambda x, y: x+y, \"-\": lambda x, y: x-y, \"*\": lambda x,\n",
    "           y: x*y, \"/\": lambda x, y: x//y, \"%\": lambda x, y: x % y}\n",
    "eserved_word = {\"HALT\", \"=\", \"+\", \"-\", \"*\", \"/\", \"%\", \"?\",\n",
    "                \":\", \"!:\", \">\", \"<\", \">=\", \"<=\", \"==\", \"!=\", \"[\", \"]\"}\n",
    "reg = re.compile('^[0-9]+$')"
   ]
  },
  {
   "cell_type": "code",
   "execution_count": 26,
   "id": "56296761",
   "metadata": {},
   "outputs": [
    {
     "data": {
      "text/plain": [
       "{'0': {'line_num': [0, 2],\n",
       "  'next': [1, None],\n",
       "  'code': ['I = M - 1', 'J = N', 'A = U1'],\n",
       "  'defd': ['A', 'J', 'I'],\n",
       "  'used': ['U1', 'M', 'N'],\n",
       "  'in': ['U3', 'U1', 'U2', 'M', 'N'],\n",
       "  'out': ['U3', 'U2', 'J', 'I']},\n",
       " '1': {'line_num': [3, 5],\n",
       "  'next': [2, 3],\n",
       "  'code': ['I = I + 1', 'J = J - 1', '? J < I : 7'],\n",
       "  'defd': [],\n",
       "  'used': ['J', 'I'],\n",
       "  'in': ['U3', 'J', 'U2', 'I'],\n",
       "  'out': ['U3', 'J', 'U2']},\n",
       " '2': {'line_num': [6, 6],\n",
       "  'next': [3, None],\n",
       "  'code': ['A = U2'],\n",
       "  'defd': ['A'],\n",
       "  'used': ['U2'],\n",
       "  'in': ['U2', 'J', 'U3'],\n",
       "  'out': ['U3', 'J', 'U2']},\n",
       " '3': {'line_num': [7, 8],\n",
       "  'next': [4, 1],\n",
       "  'code': ['I = U3', '? J > I : 3'],\n",
       "  'defd': ['I'],\n",
       "  'used': ['U3', 'J'],\n",
       "  'in': ['U3', 'J', 'U2'],\n",
       "  'out': ['U3', 'U2', 'J', 'I']},\n",
       " '4': {'line_num': [9, 9],\n",
       "  'next': [None, None],\n",
       "  'code': ['HALT'],\n",
       "  'defd': [],\n",
       "  'used': [],\n",
       "  'in': [],\n",
       "  'out': []}}"
      ]
     },
     "execution_count": 26,
     "metadata": {},
     "output_type": "execute_result"
    }
   ],
   "source": [
    "blocks"
   ]
  },
  {
   "cell_type": "markdown",
   "id": "b48acc9b",
   "metadata": {},
   "source": [
    "# 给基本块加入前驱节点属性"
   ]
  },
  {
   "cell_type": "code",
   "execution_count": 27,
   "id": "1d140660",
   "metadata": {},
   "outputs": [
    {
     "name": "stdout",
     "output_type": "stream",
     "text": [
      "0 set() [1, None]\n",
      "1 {'3', '0'} [2, 3]\n",
      "2 {'1'} [3, None]\n",
      "3 {'1', '2'} [4, 1]\n",
      "4 {'3'} [None, None]\n"
     ]
    }
   ],
   "source": [
    "for n,b in blocks.items():\n",
    "    blocks[n][\"pre\"] = set()\n",
    "\n",
    "for n,b in blocks.items():\n",
    "    for i in b[\"next\"]:\n",
    "        if i!=None:\n",
    "            blocks[str(i)][\"pre\"] = blocks[str(i)][\"pre\"] | {n}\n",
    "\n",
    "for n,b in blocks.items():\n",
    "    # blocks[n][\"pre\"] = list(blocks[n][\"pre\"])\n",
    "    print(n,b[\"pre\"],b[\"next\"])"
   ]
  },
  {
   "cell_type": "markdown",
   "id": "3213399e",
   "metadata": {},
   "source": [
    "# 构建支配关系"
   ]
  },
  {
   "cell_type": "code",
   "execution_count": 30,
   "id": "d46c6c76",
   "metadata": {},
   "outputs": [
    {
     "name": "stdout",
     "output_type": "stream",
     "text": [
      "0 {'0'}\n",
      "1 {'3', '0', '1', '2', '4'}\n",
      "2 {'3', '0', '1', '2', '4'}\n",
      "3 {'3', '0', '1', '2', '4'}\n",
      "4 {'3', '0', '1', '2', '4'}\n",
      "1\n",
      "0 {'0'}\n",
      "1 {'1', '3', '2', '4', '0'}\n",
      "2 {'1', '3', '2', '4', '0'}\n",
      "3 {'1', '3', '2', '4', '0'}\n",
      "4 {'1', '3', '2', '4', '0'}\n"
     ]
    }
   ],
   "source": [
    "for n,b in blocks.items():\n",
    "    blocks[n][\"dom\"] = set()\n",
    "\n",
    "for n,b in blocks.items():\n",
    "    blocks[n][\"dom\"] = set([str(i) for i in range(vm_blk[\"summary\"][\"total_blocks\"])])\n",
    "blocks[str(0)][\"dom\"] = {'0'}\n",
    "\n",
    "for n,b in blocks.items():\n",
    "    print(n,b[\"dom\"])\n",
    "\n",
    "flag = True\n",
    "i = 0\n",
    "while flag:\n",
    "    flag = False\n",
    "    i+=1\n",
    "    print(i)\n",
    "    for n,b in blocks.items():\n",
    "        if n!='0':\n",
    "            domset_ori = copy.deepcopy(blocks[n][\"dom\"])\n",
    "            domset = copy.deepcopy(blocks[n][\"dom\"])\n",
    "            for j in blocks[n][\"pre\"]:\n",
    "                domset = domset | blocks[j][\"dom\"]\n",
    "            domset = {n} | domset\n",
    "            if (domset!=domset_ori):\n",
    "                flag = True\n",
    "            blocks[n][\"dom\"] = domset\n",
    "    for n,b in blocks.items():\n",
    "        print(n,b[\"dom\"])"
   ]
  },
  {
   "cell_type": "code",
   "execution_count": null,
   "id": "f5fdbd5d",
   "metadata": {},
   "outputs": [],
   "source": []
  }
 ],
 "metadata": {
  "kernelspec": {
   "display_name": "Python 3 (ipykernel)",
   "language": "python",
   "name": "python3"
  },
  "language_info": {
   "codemirror_mode": {
    "name": "ipython",
    "version": 3
   },
   "file_extension": ".py",
   "mimetype": "text/x-python",
   "name": "python",
   "nbconvert_exporter": "python",
   "pygments_lexer": "ipython3",
   "version": "3.9.7"
  }
 },
 "nbformat": 4,
 "nbformat_minor": 5
}
