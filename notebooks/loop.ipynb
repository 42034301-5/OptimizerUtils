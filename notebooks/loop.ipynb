{
 "cells": [
  {
   "cell_type": "markdown",
   "id": "55b7e4d3-e4d4-40d0-a69a-eb264bdc2d26",
   "metadata": {},
   "source": [
    "# loop\n",
    "\n",
    "在编译原理课程项目中，进行自然循环识别的代码。"
   ]
  },
  {
   "cell_type": "markdown",
   "id": "44aaa923-3679-48f5-bd73-da02dc2bc2be",
   "metadata": {},
   "source": [
    "## 需要的库\n",
    "\n",
    "- 正则表达式 re\n",
    "- 序列化 json"
   ]
  },
  {
   "cell_type": "code",
   "execution_count": 1,
   "id": "618e8237-c68e-495f-8ec3-028c1f372f7a",
   "metadata": {},
   "outputs": [],
   "source": [
    "import re\n",
    "import json\n",
    "import copy"
   ]
  },
  {
   "cell_type": "markdown",
   "id": "88845129",
   "metadata": {},
   "source": [
    "## 读入json"
   ]
  },
  {
   "cell_type": "code",
   "execution_count": 2,
   "id": "ce913020",
   "metadata": {},
   "outputs": [],
   "source": [
    "filename = \"../examples/vm_src04_blk.json\"\n",
    "vm_blk = {}\n",
    "with open(filename, \"r\") as fp:\n",
    "    vm_blk = json.load(fp)\n",
    "blocks = vm_blk[\"blocks\"]\n",
    "\n",
    "cond_f = {\"==\": lambda x, y: x == y, \"!=\": lambda x, y: x != y, \">=\": lambda x, y: x >=\n",
    "          y, \"<=\": lambda x, y: x <= y, \">\": lambda x, y: x > y, \"<\": lambda x, y: x < y}\n",
    "arith_f = {\"+\": lambda x, y: x+y, \"-\": lambda x, y: x-y, \"*\": lambda x,\n",
    "           y: x*y, \"/\": lambda x, y: x//y, \"%\": lambda x, y: x % y}\n",
    "eserved_word = {\"HALT\", \"=\", \"+\", \"-\", \"*\", \"/\", \"%\", \"?\",\n",
    "                \":\", \"!:\", \">\", \"<\", \">=\", \"<=\", \"==\", \"!=\", \"[\", \"]\"}\n",
    "reg = re.compile('^[0-9]+$')"
   ]
  },
  {
   "cell_type": "code",
   "execution_count": 3,
   "id": "56296761",
   "metadata": {},
   "outputs": [
    {
     "data": {
      "text/plain": [
       "{'0': {'line_num': [0, 0],\n",
       "  'next': [1, None],\n",
       "  'code': ['B0 = 0'],\n",
       "  'defd': ['B0'],\n",
       "  'used': [],\n",
       "  'in': ['B2', 'B4'],\n",
       "  'out': ['B0', 'B2', 'B4']},\n",
       " '1': {'line_num': [1, 2],\n",
       "  'next': [2, 6],\n",
       "  'code': ['B1 = 1', '? B1 > B0 : 11'],\n",
       "  'defd': ['B1'],\n",
       "  'used': ['B0'],\n",
       "  'in': ['B2', 'B0', 'B4'],\n",
       "  'out': ['B0', 'B2', 'B4']},\n",
       " '2': {'line_num': [3, 4],\n",
       "  'next': [4, None],\n",
       "  'code': ['B2 = 2', '!: 7'],\n",
       "  'defd': ['B2'],\n",
       "  'used': [],\n",
       "  'in': ['B0', 'B4'],\n",
       "  'out': ['B0', 'B2', 'B4']},\n",
       " '3': {'line_num': [5, 6],\n",
       "  'next': [4, None],\n",
       "  'code': ['T0 = 233', 'T1 = 233'],\n",
       "  'defd': ['T1', 'T0'],\n",
       "  'used': [],\n",
       "  'in': ['B2', 'B0', 'B4'],\n",
       "  'out': ['B0', 'B2', 'B4']},\n",
       " '4': {'line_num': [7, 8],\n",
       "  'next': [5, 1],\n",
       "  'code': ['B3 = 3', '? B3 > B2 : 1'],\n",
       "  'defd': ['B3'],\n",
       "  'used': ['B2'],\n",
       "  'in': ['B0', 'B2', 'B4'],\n",
       "  'out': ['B0', 'B2', 'B4']},\n",
       " '5': {'line_num': [9, 10],\n",
       "  'next': [None, None],\n",
       "  'code': ['B4 = 4', 'HALT'],\n",
       "  'defd': ['B4'],\n",
       "  'used': [],\n",
       "  'in': [],\n",
       "  'out': []},\n",
       " '6': {'line_num': [11, 12],\n",
       "  'next': [7, 9],\n",
       "  'code': ['B5 = 5', '? B5 > B4 : 16'],\n",
       "  'defd': ['B5'],\n",
       "  'used': ['B4'],\n",
       "  'in': ['B0', 'B2', 'B4'],\n",
       "  'out': ['B0', 'B2', 'B4']},\n",
       " '7': {'line_num': [13, 13],\n",
       "  'next': [8, None],\n",
       "  'code': ['B6 = 6'],\n",
       "  'defd': ['B6'],\n",
       "  'used': [],\n",
       "  'in': ['B2', 'B0', 'B4'],\n",
       "  'out': ['B0', 'B2', 'B4']},\n",
       " '8': {'line_num': [14, 15],\n",
       "  'next': [4, None],\n",
       "  'code': ['B7 = 7', '!: 7'],\n",
       "  'defd': ['B7'],\n",
       "  'used': [],\n",
       "  'in': ['B2', 'B0', 'B4'],\n",
       "  'out': ['B0', 'B2', 'B4']},\n",
       " '9': {'line_num': [16, 17],\n",
       "  'next': [8, None],\n",
       "  'code': ['B8 = 8', '!: 14'],\n",
       "  'defd': ['B8'],\n",
       "  'used': [],\n",
       "  'in': ['B2', 'B0', 'B4'],\n",
       "  'out': ['B0', 'B2', 'B4']}}"
      ]
     },
     "execution_count": 3,
     "metadata": {},
     "output_type": "execute_result"
    }
   ],
   "source": [
    "blocks"
   ]
  },
  {
   "cell_type": "markdown",
   "id": "b48acc9b",
   "metadata": {},
   "source": [
    "# 给基本块加入前驱节点属性"
   ]
  },
  {
   "cell_type": "code",
   "execution_count": 4,
   "id": "1d140660",
   "metadata": {},
   "outputs": [
    {
     "name": "stdout",
     "output_type": "stream",
     "text": [
      "0 set()\n",
      "1 {'0', '4'}\n",
      "2 {'1'}\n",
      "3 set()\n",
      "4 {'8', '2', '3'}\n",
      "5 {'4'}\n",
      "6 {'1'}\n",
      "7 {'6'}\n",
      "8 {'7', '9'}\n",
      "9 {'6'}\n"
     ]
    }
   ],
   "source": [
    "for n,b in blocks.items():\n",
    "    blocks[n][\"pre\"] = set()\n",
    "\n",
    "for n,b in blocks.items():\n",
    "    for i in b[\"next\"]:\n",
    "        if i!=None:\n",
    "            blocks[str(i)][\"pre\"] = blocks[str(i)][\"pre\"] | {n}\n",
    "# blocks['0'][\"pre\"] = {'E'}\n",
    "for n,b in blocks.items():\n",
    "    # blocks[n][\"pre\"] = list(blocks[n][\"pre\"])\n",
    "    print(n,b[\"pre\"])"
   ]
  },
  {
   "cell_type": "markdown",
   "id": "3213399e",
   "metadata": {},
   "source": [
    "# 构建支配关系"
   ]
  },
  {
   "cell_type": "code",
   "execution_count": 26,
   "id": "d46c6c76",
   "metadata": {},
   "outputs": [
    {
     "name": "stdout",
     "output_type": "stream",
     "text": [
      "0 {'0'}\n",
      "1 {'0', '1'}\n",
      "2 {'0', '1', '2'}\n",
      "3 set()\n",
      "4 {'0', '1', '4'}\n",
      "5 {'0', '5', '1', '4'}\n",
      "6 {'0', '6', '1'}\n",
      "7 {'0', '7', '6', '1'}\n",
      "8 {'0', '6', '8', '1'}\n",
      "9 {'0', '6', '1', '9'}\n"
     ]
    }
   ],
   "source": [
    "for n,b in blocks.items():\n",
    "    blocks[n][\"dom\"] = set([str(i) for i in range(vm_blk[\"summary\"][\"total_blocks\"])])\n",
    "blocks[str(0)][\"dom\"] = {'0'}\n",
    "\n",
    "# for n,b in blocks.items():\n",
    "#     print(n,b[\"dom\"])\n",
    "\n",
    "flag = True\n",
    "i = 0\n",
    "while flag:\n",
    "    flag = False\n",
    "    i+=1\n",
    "    # print(\"#\",i)\n",
    "    for n,b in blocks.items():\n",
    "        if n!='0':\n",
    "            domset_ori = copy.deepcopy(blocks[n][\"dom\"])\n",
    "            domset = copy.deepcopy(blocks[n][\"dom\"])\n",
    "            preset = set([str(i) for i in range(vm_blk[\"summary\"][\"total_blocks\"])])\n",
    "            for j in blocks[n][\"pre\"]:\n",
    "                preset = preset & blocks[j][\"dom\"]\n",
    "            domset = {n} | preset\n",
    "            if (domset!=domset_ori):\n",
    "                flag = True\n",
    "            blocks[n][\"dom\"] = domset\n",
    "    # for n,b in blocks.items():\n",
    "    #     print(n,b[\"dom\"])\n",
    "for n,b in blocks.items():\n",
    "    if len(b[\"pre\"])==0 and n!='0':\n",
    "        blocks[n][\"dom\"] = set()\n",
    "\n",
    "for n,b in blocks.items():\n",
    "    print(n,b[\"dom\"])"
   ]
  },
  {
   "cell_type": "markdown",
   "id": "027b3f00",
   "metadata": {},
   "source": [
    "# 寻找回边"
   ]
  },
  {
   "cell_type": "code",
   "execution_count": 6,
   "id": "ea0b7b19",
   "metadata": {},
   "outputs": [
    {
     "name": "stdout",
     "output_type": "stream",
     "text": [
      "[1, 2, 3]\n",
      "[1, 2]\n"
     ]
    }
   ],
   "source": [
    "stack = []\n",
    "stack.append(1)\n",
    "stack.append(2)\n",
    "stack.append(3)\n",
    "print(stack)\n",
    "stack.pop()\n",
    "print(stack)\n"
   ]
  },
  {
   "cell_type": "code",
   "execution_count": 18,
   "id": "5ac5d3f4",
   "metadata": {},
   "outputs": [
    {
     "name": "stdout",
     "output_type": "stream",
     "text": [
      "{'0': 70, '1': 0, '2': 1, '3': 70, '4': 6, '5': 7, '6': 2, '7': 3, '8': 5, '9': 4}\n",
      "{'0': None, '1': '0', '2': '1', '3': None, '4': '8', '5': '4', '6': '1', '7': '6', '8': '9', '9': '6'}\n",
      "[('4', '1'), ('7', '8'), ('2', '4')]\n"
     ]
    }
   ],
   "source": [
    "stack = ['0']\n",
    "visited = {str(i):False for i in range(vm_blk[\"summary\"][\"total_blocks\"])}\n",
    "dfn = {str(i):vm_blk[\"summary\"][\"total_blocks\"]*7 for i in range(vm_blk[\"summary\"][\"total_blocks\"])}\n",
    "low = {str(i):vm_blk[\"summary\"][\"total_blocks\"]*7 for i in range(vm_blk[\"summary\"][\"total_blocks\"])}\n",
    "parent = {str(i):None for i in range(vm_blk[\"summary\"][\"total_blocks\"])}\n",
    "cnt = 0\n",
    "back_edge = []\n",
    "while len(stack)>0:\n",
    "    tmp = stack[-1]\n",
    "    visited[tmp] = True\n",
    "    stack.pop()\n",
    "    # print(tmp)\n",
    "    for i in blocks[tmp][\"next\"]:\n",
    "        if (i!=None):\n",
    "            if not visited[str(i)]:\n",
    "                stack.append(str(i))\n",
    "                dfn[str(i)] = cnt\n",
    "                cnt+=1\n",
    "                parent[str(i)] = tmp\n",
    "            else:\n",
    "                # print(tmp,dfn[tmp],\"->\",str(i),dfn[str(i)])\n",
    "                back_edge.append((tmp,str(i)))\n",
    "print(dfn)\n",
    "print(parent)\n",
    "print(back_edge)"
   ]
  },
  {
   "cell_type": "markdown",
   "id": "92090b71",
   "metadata": {},
   "source": [
    "# 寻找一条回边对应的自然循环"
   ]
  },
  {
   "cell_type": "code",
   "execution_count": 25,
   "id": "56b741ed",
   "metadata": {},
   "outputs": [
    {
     "name": "stdout",
     "output_type": "stream",
     "text": [
      "[['1', '4', '2'], ['6', '1', '4', '7', '8', '2'], ['1', '6', '4', '7', '8', '2', '9']]\n"
     ]
    }
   ],
   "source": [
    "loops = []\n",
    "for le in back_edge:\n",
    "    stack = [le[0]]\n",
    "    loop = {le[0],le[1]}\n",
    "    while len(stack)>0:\n",
    "        m=stack[-1]\n",
    "        stack.pop()\n",
    "        for p in blocks[m][\"pre\"]:\n",
    "            if p not in loop:\n",
    "                loop = loop | {p}\n",
    "                stack.append(p)\n",
    "    loop = [i for i in list(loop) if len(blocks[i][\"pre\"])>0]\n",
    "    # print(le,sorted(loop))\n",
    "    loops.append(loop)\n",
    "loops = sorted(loops,key = lambda x:len(x))\n",
    "print(loops)"
   ]
  },
  {
   "cell_type": "code",
   "execution_count": null,
   "id": "82533a42",
   "metadata": {},
   "outputs": [],
   "source": []
  }
 ],
 "metadata": {
  "kernelspec": {
   "display_name": "Python 3 (ipykernel)",
   "language": "python",
   "name": "python3"
  },
  "language_info": {
   "codemirror_mode": {
    "name": "ipython",
    "version": 3
   },
   "file_extension": ".py",
   "mimetype": "text/x-python",
   "name": "python",
   "nbconvert_exporter": "python",
   "pygments_lexer": "ipython3",
   "version": "3.9.7"
  }
 },
 "nbformat": 4,
 "nbformat_minor": 5
}
