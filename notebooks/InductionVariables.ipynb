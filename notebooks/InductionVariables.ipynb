{
 "cells": [
  {
   "cell_type": "markdown",
   "id": "55b7e4d3-e4d4-40d0-a69a-eb264bdc2d26",
   "metadata": {},
   "source": [
    "# Loop InductionVariables\n",
    "\n",
    "在编译原理课程项目中，找归纳变量的代码，需要提供循环不变量的信息。\n",
    "\n",
    "下面先找循环，再找归纳变量。"
   ]
  },
  {
   "cell_type": "markdown",
   "id": "44aaa923-3679-48f5-bd73-da02dc2bc2be",
   "metadata": {},
   "source": [
    "## 需要的库\n",
    "\n",
    "- 正则表达式 re\n",
    "- 序列化 json"
   ]
  },
  {
   "cell_type": "code",
   "execution_count": 1,
   "id": "618e8237-c68e-495f-8ec3-028c1f372f7a",
   "metadata": {},
   "outputs": [],
   "source": [
    "import re\n",
    "import json\n",
    "import copy"
   ]
  },
  {
   "cell_type": "markdown",
   "id": "88845129",
   "metadata": {},
   "source": [
    "## 读入json"
   ]
  },
  {
   "cell_type": "code",
   "execution_count": 14,
   "id": "ce913020",
   "metadata": {},
   "outputs": [],
   "source": [
    "filename = \"../examples/quicksort_src_blk.json\"\n",
    "vm_blk = {}\n",
    "with open(filename, \"r\") as fp:\n",
    "    vm_blk = json.load(fp)\n",
    "blocks = vm_blk[\"blocks\"]\n",
    "\n",
    "cond_f = {\"==\": lambda x, y: x == y, \"!=\": lambda x, y: x != y, \">=\": lambda x, y: x >=\n",
    "          y, \"<=\": lambda x, y: x <= y, \">\": lambda x, y: x > y, \"<\": lambda x, y: x < y}\n",
    "arith_f = {\"+\": lambda x, y: x+y, \"-\": lambda x, y: x-y, \"*\": lambda x,\n",
    "           y: x*y, \"/\": lambda x, y: x//y, \"%\": lambda x, y: x % y}\n",
    "eserved_word = {\"HALT\", \"=\", \"+\", \"-\", \"*\", \"/\", \"%\", \"?\",\n",
    "                \":\", \"!:\", \">\", \"<\", \">=\", \"<=\", \"==\", \"!=\", \"[\", \"]\"}\n",
    "reg = re.compile('^[0-9]+$')"
   ]
  },
  {
   "cell_type": "code",
   "execution_count": 15,
   "id": "56296761",
   "metadata": {},
   "outputs": [
    {
     "data": {
      "text/plain": [
       "{'0': {'line_num': [0, 3],\n",
       "  'next': [1, None],\n",
       "  'code': ['SL [ 0 ] = 0', 'N = N - 1', 'SR [ 0 ] = N', 'TOP = 0'],\n",
       "  'defd': ['SL', 'SR', 'TOP'],\n",
       "  'used': ['N'],\n",
       "  'in': ['A', 'N'],\n",
       "  'out': ['SR', 'SL', 'A', 'TOP']},\n",
       " '1': {'line_num': [4, 4],\n",
       "  'next': [2, 9],\n",
       "  'code': ['? TOP < 0 : 47'],\n",
       "  'defd': [],\n",
       "  'used': ['TOP'],\n",
       "  'in': ['SL', 'A', 'SR', 'TOP'],\n",
       "  'out': ['A', 'SL', 'SR', 'TOP']},\n",
       " '2': {'line_num': [5, 8],\n",
       "  'next': [3, 1],\n",
       "  'code': ['M = SL [ TOP ]',\n",
       "   'N = SR [ TOP ]',\n",
       "   'TOP = TOP - 1',\n",
       "   '? N <= M : 4'],\n",
       "  'defd': ['N', 'M'],\n",
       "  'used': ['SL', 'SR', 'TOP'],\n",
       "  'in': ['SL', 'A', 'SR', 'TOP'],\n",
       "  'out': ['M', 'SR', 'N', 'SL', 'A', 'TOP']},\n",
       " '3': {'line_num': [9, 12],\n",
       "  'next': [4, None],\n",
       "  'code': ['I = M - 1', 'J = N', 'T_1 = N', 'V = A [ T_1 ]'],\n",
       "  'defd': ['J', 'V', 'I', 'T_1'],\n",
       "  'used': ['A', 'N', 'M'],\n",
       "  'in': ['N', 'A', 'M', 'TOP'],\n",
       "  'out': ['M', 'J', 'I', 'V', 'N', 'A', 'TOP']},\n",
       " '4': {'line_num': [13, 16],\n",
       "  'next': [5, 4],\n",
       "  'code': ['I = I + 1', 'T_2 = I', 'T_3 = A [ T_2 ]', '? V > T_3 : 13'],\n",
       "  'defd': ['T_3', 'T_2'],\n",
       "  'used': ['A', 'I', 'V'],\n",
       "  'in': ['M', 'I', 'V', 'J', 'N', 'A', 'TOP'],\n",
       "  'out': ['M', 'I', 'V', 'J', 'N', 'A', 'TOP']},\n",
       " '5': {'line_num': [17, 20],\n",
       "  'next': [6, 5],\n",
       "  'code': ['J = J - 1', 'T_4 = J', 'T_5 = A [ T_4 ]', '? T_5 > V : 17'],\n",
       "  'defd': ['T_5', 'T_4'],\n",
       "  'used': ['A', 'J', 'V'],\n",
       "  'in': ['M', 'J', 'V', 'I', 'N', 'A', 'TOP'],\n",
       "  'out': ['M', 'I', 'V', 'J', 'N', 'A', 'TOP']},\n",
       " '6': {'line_num': [21, 21],\n",
       "  'next': [7, 8],\n",
       "  'code': ['? I >= J : 31'],\n",
       "  'defd': [],\n",
       "  'used': ['J', 'I'],\n",
       "  'in': ['M', 'J', 'I', 'V', 'N', 'A', 'TOP'],\n",
       "  'out': ['M', 'I', 'V', 'J', 'N', 'A', 'TOP']},\n",
       " '7': {'line_num': [22, 30],\n",
       "  'next': [4, None],\n",
       "  'code': ['T_6 = I',\n",
       "   'X = A [ T_6 ]',\n",
       "   'T_7 = I',\n",
       "   'T_8 = J',\n",
       "   'T_9 = A [ T_8 ]',\n",
       "   'A [ T_7 ] = T_9',\n",
       "   'T_10 = J',\n",
       "   'A [ T_10 ] = X',\n",
       "   '!: 13'],\n",
       "  'defd': ['T_8', 'X', 'T_10', 'T_9', 'T_7', 'T_6'],\n",
       "  'used': ['A', 'J', 'I'],\n",
       "  'in': ['M', 'J', 'I', 'V', 'N', 'A', 'TOP'],\n",
       "  'out': ['M', 'J', 'I', 'V', 'N', 'A', 'TOP']},\n",
       " '8': {'line_num': [31, 46],\n",
       "  'next': [1, None],\n",
       "  'code': ['T_11 = I',\n",
       "   'X = A [ T_11 ]',\n",
       "   'T_12 = I',\n",
       "   'T_13 = N',\n",
       "   'T_14 = A [ T_13 ]',\n",
       "   'A [ T_12 ] = T_14',\n",
       "   'T_15 = N',\n",
       "   'A [ T_15 ] = X',\n",
       "   'TOP = TOP + 1',\n",
       "   'SL [ TOP ] = M',\n",
       "   'SR [ TOP ] = J',\n",
       "   'TOP = TOP + 1',\n",
       "   'T_16 = I + 1',\n",
       "   'SL [ TOP ] = T_16',\n",
       "   'SR [ TOP ] = N',\n",
       "   '!: 4'],\n",
       "  'defd': ['X', 'T_16', 'T_14', 'SR', 'SL', 'T_13', 'T_11', 'T_15', 'T_12'],\n",
       "  'used': ['M', 'I', 'J', 'N', 'A', 'TOP'],\n",
       "  'in': ['J', 'N', 'A', 'M', 'I', 'TOP'],\n",
       "  'out': ['SR', 'SL', 'A', 'TOP']},\n",
       " '9': {'line_num': [47, 47],\n",
       "  'next': [None, None],\n",
       "  'code': ['HALT'],\n",
       "  'defd': [],\n",
       "  'used': [],\n",
       "  'in': [],\n",
       "  'out': []}}"
      ]
     },
     "execution_count": 15,
     "metadata": {},
     "output_type": "execute_result"
    }
   ],
   "source": [
    "blocks"
   ]
  },
  {
   "cell_type": "markdown",
   "id": "b48acc9b",
   "metadata": {},
   "source": [
    "# 找循环"
   ]
  },
  {
   "cell_type": "code",
   "execution_count": 16,
   "id": "1d140660",
   "metadata": {},
   "outputs": [
    {
     "name": "stdout",
     "output_type": "stream",
     "text": [
      "[('2', '1'), ('8', '1'), ('4', '4'), ('5', '5'), ('7', '4')]\n",
      "[(['4'], ('4', '4')), (['5'], ('5', '5')), (['1', '2'], ('2', '1')), (['4', '5', '6', '7'], ('7', '4')), (['1', '2', '3', '4', '5', '6', '7', '8'], ('8', '1'))]\n"
     ]
    }
   ],
   "source": [
    "# 计算基本块的前驱\n",
    "for n,b in blocks.items():\n",
    "    blocks[n][\"pre\"] = set()\n",
    "for n,b in blocks.items():\n",
    "    for i in b[\"next\"]:\n",
    "        if i!=None:\n",
    "            blocks[str(i)][\"pre\"] = blocks[str(i)][\"pre\"] | {n}\n",
    "# 构建支配关系\n",
    "for n,b in blocks.items():\n",
    "    blocks[n][\"dom\"] = set([str(i) for i in range(vm_blk[\"summary\"][\"total_blocks\"])])\n",
    "blocks[str(0)][\"dom\"] = {'0'}\n",
    "flag = True\n",
    "i = 0\n",
    "while flag:\n",
    "    flag = False\n",
    "    i+=1\n",
    "    for n,b in blocks.items():\n",
    "        if n!='0':\n",
    "            domset_ori = copy.deepcopy(blocks[n][\"dom\"])\n",
    "            domset = copy.deepcopy(blocks[n][\"dom\"])\n",
    "            preset = set([str(i) for i in range(vm_blk[\"summary\"][\"total_blocks\"])])\n",
    "            for j in blocks[n][\"pre\"]:\n",
    "                preset = preset & blocks[j][\"dom\"]\n",
    "            domset = {n} | preset\n",
    "            if (domset!=domset_ori):\n",
    "                flag = True\n",
    "            blocks[n][\"dom\"] = domset\n",
    "for n,b in blocks.items():\n",
    "    if len(b[\"pre\"])==0 and n!='0':\n",
    "        blocks[n][\"dom\"] = set()\n",
    "# 寻找回边\n",
    "back_edge = []\n",
    "for n,b in blocks.items():\n",
    "    for i in b[\"dom\"]:\n",
    "        if int(i) in b[\"next\"]:\n",
    "            back_edge.append((n,i))\n",
    "back_edge = list(set(back_edge))\n",
    "print(back_edge)\n",
    "# 寻找回边对应的自然循环\n",
    "loops = []\n",
    "for le in back_edge:\n",
    "    stack = [le[0]]\n",
    "    loop = {le[0],le[1]}\n",
    "    if le[0]==le[1]:\n",
    "        continue\n",
    "    while len(stack)>0:\n",
    "        m=stack[-1]\n",
    "        stack.pop()\n",
    "        for p in blocks[m][\"pre\"]:\n",
    "            if p not in loop:\n",
    "                loop = loop | {p}\n",
    "                stack.append(p)\n",
    "    loop = [i for i in list(loop) if len(blocks[i][\"pre\"])>0]\n",
    "    # print(le,sorted(loop))\n",
    "    loops.append((sorted(loop),le))\n",
    "# 找只有一个基本块的循环\n",
    "for n,b in blocks.items():\n",
    "    if int(n) in b[\"next\"]:\n",
    "        loops.append(([n],(n,n)))\n",
    "loops = sorted(loops,key = lambda x:len(x[0]))\n",
    "# loops = list(set(loops))\n",
    "loops_res = []\n",
    "for l in loops:\n",
    "    if l not in loops_res:\n",
    "        loops_res.append(l)\n",
    "print(loops_res)\n",
    "for n,b in blocks.items():\n",
    "    blocks[n][\"dom\"] = list(blocks[n][\"dom\"])\n",
    "    blocks[n][\"pre\"] = list(blocks[n][\"pre\"])\n",
    "vm_blk[\"blocks\"] = blocks\n",
    "vm_blk[\"loops\"] = loops_res"
   ]
  },
  {
   "cell_type": "markdown",
   "id": "e3a099e0",
   "metadata": {},
   "source": [
    "# 读入循环不变量信息"
   ]
  },
  {
   "cell_type": "code",
   "execution_count": 18,
   "id": "1613b045",
   "metadata": {},
   "outputs": [
    {
     "data": {
      "text/plain": [
       "[['1'], ['1'], ['1'], [], []]"
      ]
     },
     "execution_count": 18,
     "metadata": {},
     "output_type": "execute_result"
    }
   ],
   "source": [
    "invariant_var = [[] for i in loops_res]\n",
    "invariant_var[0] = [\"1\"]\n",
    "invariant_var[1] = [\"1\"]\n",
    "invariant_var[2] = [\"1\"]\n",
    "invariant_var"
   ]
  },
  {
   "cell_type": "markdown",
   "id": "88e45a74",
   "metadata": {},
   "source": [
    "# 找基本归纳变量"
   ]
  },
  {
   "cell_type": "code",
   "execution_count": 24,
   "id": "e1f85a94",
   "metadata": {},
   "outputs": [
    {
     "name": "stdout",
     "output_type": "stream",
     "text": [
      "['I = I + 1', 'T_2 = I', 'T_3 = A [ T_2 ]', '? V > T_3 : 13']\n",
      "I = I + 1\n",
      "['J = J - 1', 'T_4 = J', 'T_5 = A [ T_4 ]', '? T_5 > V : 17']\n",
      "J = J - 1\n",
      "['? TOP < 0 : 47']\n",
      "['M = SL [ TOP ]', 'N = SR [ TOP ]', 'TOP = TOP - 1', '? N <= M : 4']\n",
      "TOP = TOP - 1\n",
      "['I = I + 1', 'T_2 = I', 'T_3 = A [ T_2 ]', '? V > T_3 : 13']\n",
      "['J = J - 1', 'T_4 = J', 'T_5 = A [ T_4 ]', '? T_5 > V : 17']\n",
      "['? I >= J : 31']\n",
      "['T_6 = I', 'X = A [ T_6 ]', 'T_7 = I', 'T_8 = J', 'T_9 = A [ T_8 ]', 'A [ T_7 ] = T_9', 'T_10 = J', 'A [ T_10 ] = X', '!: 13']\n",
      "['? TOP < 0 : 47']\n",
      "['M = SL [ TOP ]', 'N = SR [ TOP ]', 'TOP = TOP - 1', '? N <= M : 4']\n",
      "['I = M - 1', 'J = N', 'T_1 = N', 'V = A [ T_1 ]']\n",
      "['I = I + 1', 'T_2 = I', 'T_3 = A [ T_2 ]', '? V > T_3 : 13']\n",
      "['J = J - 1', 'T_4 = J', 'T_5 = A [ T_4 ]', '? T_5 > V : 17']\n",
      "['? I >= J : 31']\n",
      "['T_6 = I', 'X = A [ T_6 ]', 'T_7 = I', 'T_8 = J', 'T_9 = A [ T_8 ]', 'A [ T_7 ] = T_9', 'T_10 = J', 'A [ T_10 ] = X', '!: 13']\n",
      "['T_11 = I', 'X = A [ T_11 ]', 'T_12 = I', 'T_13 = N', 'T_14 = A [ T_13 ]', 'A [ T_12 ] = T_14', 'T_15 = N', 'A [ T_15 ] = X', 'TOP = TOP + 1', 'SL [ TOP ] = M', 'SR [ TOP ] = J', 'TOP = TOP + 1', 'T_16 = I + 1', 'SL [ TOP ] = T_16', 'SR [ TOP ] = N', '!: 4']\n"
     ]
    }
   ],
   "source": [
    "basic_induc_var = [[] for i in loops_res]\n",
    "for n,lp in enumerate(loops_res):\n",
    "    for i in lp[0]:\n",
    "        bcode = blocks[i][\"code\"]\n",
    "        print(bcode)\n",
    "        for line in bcode:\n",
    "            symbols = line.split(\" \")\n",
    "            if symbols[1]==\"=\" and symbols[0]==symbols[2] and symbols[3] in ['+','-'] and symbols[4] in invariant_var[n]:\n",
    "                basic_induc_var[n].append(symbols[0])\n",
    "                print(line)"
   ]
  },
  {
   "cell_type": "code",
   "execution_count": 25,
   "id": "c9a8d088",
   "metadata": {},
   "outputs": [
    {
     "name": "stdout",
     "output_type": "stream",
     "text": [
      "(['4'], ('4', '4')) : ['I']\n",
      "(['5'], ('5', '5')) : ['J']\n",
      "(['1', '2'], ('2', '1')) : ['TOP']\n",
      "(['4', '5', '6', '7'], ('7', '4')) : []\n",
      "(['1', '2', '3', '4', '5', '6', '7', '8'], ('8', '1')) : []\n"
     ]
    }
   ],
   "source": [
    "for n,i in enumerate(basic_induc_var):\n",
    "    print(\"{} : {}\".format(loops_res[n],i))"
   ]
  },
  {
   "cell_type": "markdown",
   "id": "6c9d3f2f",
   "metadata": {},
   "source": [
    "# 寻找同族归纳变量"
   ]
  },
  {
   "cell_type": "code",
   "execution_count": 26,
   "id": "cdb38f09",
   "metadata": {},
   "outputs": [
    {
     "data": {
      "text/plain": [
       "[{'I': []}, {'J': []}, {'TOP': []}, {}, {}]"
      ]
     },
     "execution_count": 26,
     "metadata": {},
     "output_type": "execute_result"
    }
   ],
   "source": [
    "# 待续"
   ]
  },
  {
   "cell_type": "code",
   "execution_count": null,
   "id": "8eee9718",
   "metadata": {},
   "outputs": [],
   "source": []
  }
 ],
 "metadata": {
  "kernelspec": {
   "display_name": "Python 3 (ipykernel)",
   "language": "python",
   "name": "python3"
  },
  "language_info": {
   "codemirror_mode": {
    "name": "ipython",
    "version": 3
   },
   "file_extension": ".py",
   "mimetype": "text/x-python",
   "name": "python",
   "nbconvert_exporter": "python",
   "pygments_lexer": "ipython3",
   "version": "3.9.7"
  }
 },
 "nbformat": 4,
 "nbformat_minor": 5
}
