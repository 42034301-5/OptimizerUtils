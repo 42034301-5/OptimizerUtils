{
 "cells": [
  {
   "cell_type": "markdown",
   "id": "55b7e4d3-e4d4-40d0-a69a-eb264bdc2d26",
   "metadata": {},
   "source": [
    "# OptiVM\n",
    "\n",
    "在编译原理课程项目中，运行三地址代码的虚拟机。"
   ]
  },
  {
   "cell_type": "markdown",
   "id": "44aaa923-3679-48f5-bd73-da02dc2bc2be",
   "metadata": {},
   "source": [
    "## 需要的库\n",
    "\n",
    "- 正则表达式 re\n",
    "- 序列化 json"
   ]
  },
  {
   "cell_type": "code",
   "execution_count": 1,
   "id": "618e8237-c68e-495f-8ec3-028c1f372f7a",
   "metadata": {},
   "outputs": [],
   "source": [
    "import re\n",
    "import json"
   ]
  },
  {
   "cell_type": "markdown",
   "id": "211f0072-c499-4266-b721-beecf50b7c8d",
   "metadata": {
    "tags": []
   },
   "source": [
    "# 变量\n",
    "\n",
    "## 支持的变量类型\n",
    "\n",
    "- 整型 int\n",
    "- 整型数组 int_array\n",
    "\n",
    "数组支持负索引，与python中的负索引语义相同，但需要预先定义数组长度。\n",
    "\n",
    "常数也是整型。\n",
    "\n",
    "## 变量名\n",
    "\n",
    "支持的变量名为```[A-Za-z_][A-Za-z0-9_]*```。常数也是整型，但其变量名为其本身的字符串，无需遵守变量名规则。\n",
    "\n",
    "我们约定，名为```[T_][0-9]+```的变量为临时变量。\n",
    "\n",
    "## 存储方式\n",
    "\n",
    "如下，存储在符号表中。（其实是字典，方便序列化）"
   ]
  },
  {
   "cell_type": "code",
   "execution_count": 2,
   "id": "b1c902f8-2227-4811-b753-499a7d551b56",
   "metadata": {},
   "outputs": [
    {
     "data": {
      "text/plain": [
       "'{\"i\": {\"t\": \"int\", \"val\": 233}, \"A\": {\"t\": \"int_array\", \"size\": 5, \"val\": [1, 2, 3, 4, 5]}}'"
      ]
     },
     "execution_count": 2,
     "metadata": {},
     "output_type": "execute_result"
    }
   ],
   "source": [
    "var_table = {\"i\":{'t':'int','val':233},\n",
    "             \"A\":{'t':'int_array','size':5,'val':[1,2,3,4,5]}}\n",
    "json.dumps(var_table)"
   ]
  },
  {
   "cell_type": "markdown",
   "id": "19302926-c33b-4e4b-8330-49a2d09851f3",
   "metadata": {
    "tags": []
   },
   "source": [
    "# 语句\n",
    "\n",
    "## 支持的语句类型\n",
    "\n",
    "- 赋值与四则运算\n",
    "```\n",
    "a = T_1\n",
    "A [ i ] = T_1\n",
    "T_1 = A [ i ]\n",
    "T_1 = T_2 + T_3\n",
    "T_1 = T_2 - T_3\n",
    "T_1 = T_2 * T_3\n",
    "T_1 = T_2 / T_3\n",
    "T_1 = T_2 % T_3\n",
    "```\n",
    "- 控制语句\n",
    "```\n",
    "!: 101 强制跳转至行号\n",
    "? T_1 > a : 101 条件跳转至行号\n",
    "? T_1 < a : 101 条件跳转至行号\n",
    "? T_1 == a : 101 条件跳转至行号\n",
    "? T_1 >= a : 101 条件跳转至行号\n",
    "? T_1 <= a : 101 条件跳转至行号\n",
    "? T_1 != a : 101 条件跳转至行号\n",
    "HALT 停机\n",
    "```\n",
    "\n",
    "注意，语句中的空格是必须严格遵守的格式。\n",
    "\n",
    "## 存储方式\n",
    "字符串列表，每行无需以```\\n```结束。"
   ]
  },
  {
   "cell_type": "code",
   "execution_count": 3,
   "id": "c1112f60-5631-4b89-93ce-506fd58ca862",
   "metadata": {},
   "outputs": [
    {
     "data": {
      "text/plain": [
       "'[\"R = X % Y\", \"? R == 0 : 7\", \"X = Y\", \"Y = R\", \"!: 0\", \"X = Y + 1\", \"Y = X + 1\", \"HALT\"]'"
      ]
     },
     "execution_count": 3,
     "metadata": {},
     "output_type": "execute_result"
    }
   ],
   "source": [
    "code = [\"R = X % Y\",\n",
    "        \"? R == 0 : 7\",\n",
    "        \"X = Y\",\n",
    "        \"Y = R\",\n",
    "        \"!: 0\",\n",
    "        \"X = Y + 1\",\n",
    "        \"Y = X + 1\",\n",
    "        \"HALT\"]\n",
    "json.dumps(code)"
   ]
  },
  {
   "cell_type": "markdown",
   "id": "687a4374-1622-4388-923b-bd5b57c47993",
   "metadata": {},
   "source": [
    "# 虚拟机接受的json"
   ]
  },
  {
   "cell_type": "code",
   "execution_count": 4,
   "id": "69f6af76-c2f7-4688-be8b-a34e976f7d00",
   "metadata": {},
   "outputs": [
    {
     "name": "stdout",
     "output_type": "stream",
     "text": [
      "{\n",
      "  \"table\": {\n",
      "    \"X\": {\n",
      "      \"t\": \"int\",\n",
      "      \"val\": 233\n",
      "    },\n",
      "    \"Y\": {\n",
      "      \"t\": \"int\",\n",
      "      \"val\": 9\n",
      "    },\n",
      "    \"R\": {\n",
      "      \"t\": \"int\",\n",
      "      \"val\": 233\n",
      "    },\n",
      "    \"0\": {\n",
      "      \"t\": \"int\",\n",
      "      \"val\": 0\n",
      "    },\n",
      "    \"1\": {\n",
      "      \"t\": \"int\",\n",
      "      \"val\": 1\n",
      "    },\n",
      "    \"7\": {\n",
      "      \"t\": \"int\",\n",
      "      \"val\": 7\n",
      "    },\n",
      "    \"A\": {\n",
      "      \"t\": \"int_array\",\n",
      "      \"size\": 5,\n",
      "      \"val\": [\n",
      "        1,\n",
      "        2,\n",
      "        3,\n",
      "        4,\n",
      "        5\n",
      "      ]\n",
      "    }\n",
      "  },\n",
      "  \"code\": [\n",
      "    \"R = X % Y\",\n",
      "    \"? R == 0 : 7\",\n",
      "    \"X = Y\",\n",
      "    \"Y = R\",\n",
      "    \"!: 0\",\n",
      "    \"X = Y + 1\",\n",
      "    \"Y = X + 1\",\n",
      "    \"HALT\"\n",
      "  ]\n",
      "}\n"
     ]
    }
   ],
   "source": [
    "var_table = {\"X\":{'t':'int','val':233},\n",
    "             \"Y\":{'t':'int','val':9},\n",
    "             \"R\":{'t':'int','val':233},\n",
    "             \"0\":{'t':'int','val':0},\n",
    "             \"1\":{'t':'int','val':1},\n",
    "             \"7\":{'t':'int','val':7},\n",
    "             \"A\":{'t':'int_array','size':5,'val':[1,2,3,4,5]}}\n",
    "code = [\"R = X % Y\",\n",
    "        \"? R == 0 : 7\",\n",
    "        \"X = Y\",\n",
    "        \"Y = R\",\n",
    "        \"!: 0\",\n",
    "        \"X = Y + 1\",\n",
    "        \"Y = X + 1\",\n",
    "        \"HALT\"]\n",
    "vm_src = json.dumps({\"table\":var_table,\"code\":code},indent=2)\n",
    "print(vm_src)"
   ]
  },
  {
   "cell_type": "markdown",
   "id": "fa361fd2-3ae8-41d0-b283-c6dfcf611121",
   "metadata": {},
   "source": [
    "# 从code自动生成table\n",
    "\n",
    "数组大小还是要自己填的。"
   ]
  },
  {
   "cell_type": "code",
   "execution_count": 5,
   "id": "91ae4c10-d960-4a0e-8716-a9b27bc2726b",
   "metadata": {},
   "outputs": [],
   "source": [
    "code = [\"R = X % Y\",\n",
    "        \"? R == 0 : 7\",\n",
    "        \"X = Y\",\n",
    "        \"Y = R\",\n",
    "        \"!: 0\",\n",
    "        \"X = Y + 1\",\n",
    "        \"Y = X + 1\",\n",
    "        \"A [ i ] = X\",\n",
    "        \"HALT\"]\n",
    "eserved_word = {\"HALT\",\"=\",\"+\",\"-\",\"*\",\"/\",\"%\",\"?\",\":\",\"!:\",\">\",\"<\",\">=\",\"<=\",\"==\",\"!=\",\"[\",\"]\"}\n",
    "reg = re.compile('^[0-9]+$')\n",
    "var_table = {}\n",
    "for line in code:\n",
    "    symbols = line.split(\" \")\n",
    "    var_names = [v for v in symbols if v not in eserved_word]\n",
    "    for k in var_names:\n",
    "        if k not in var_table:\n",
    "            var_table[k]={'t':'int','val':eval(k) if (reg.match(k)!=None) else 0}\n",
    "    if '[' in symbols:\n",
    "        var_table[symbols[symbols.index('[')-1]]={'t':'int_array','size':0,'val':[]}"
   ]
  },
  {
   "cell_type": "code",
   "execution_count": 6,
   "id": "c5967860-91b6-44c8-b154-6c0b92f25794",
   "metadata": {},
   "outputs": [
    {
     "data": {
      "text/plain": [
       "{'R': {'t': 'int', 'val': 0},\n",
       " 'X': {'t': 'int', 'val': 0},\n",
       " 'Y': {'t': 'int', 'val': 0},\n",
       " '0': {'t': 'int', 'val': 0},\n",
       " '7': {'t': 'int', 'val': 7},\n",
       " '1': {'t': 'int', 'val': 1},\n",
       " 'A': {'t': 'int_array', 'size': 0, 'val': []},\n",
       " 'i': {'t': 'int', 'val': 0}}"
      ]
     },
     "execution_count": 6,
     "metadata": {},
     "output_type": "execute_result"
    }
   ],
   "source": [
    "var_table"
   ]
  },
  {
   "cell_type": "markdown",
   "id": "e48ea7ba-c5ca-4755-b712-f7fe3066b6ab",
   "metadata": {},
   "source": [
    "# 虚拟机运行\n",
    "\n",
    "先准备vm_src和vm_runtime"
   ]
  },
  {
   "cell_type": "code",
   "execution_count": 13,
   "id": "847b0aaf-17e5-4428-95d3-b4a722ca2835",
   "metadata": {},
   "outputs": [
    {
     "name": "stdout",
     "output_type": "stream",
     "text": [
      "{\n",
      "  \"table\": {\n",
      "    \"X\": {\n",
      "      \"t\": \"int\",\n",
      "      \"val\": 233\n",
      "    },\n",
      "    \"Y\": {\n",
      "      \"t\": \"int\",\n",
      "      \"val\": 9\n",
      "    },\n",
      "    \"R\": {\n",
      "      \"t\": \"int\",\n",
      "      \"val\": 233\n",
      "    },\n",
      "    \"0\": {\n",
      "      \"t\": \"int\",\n",
      "      \"val\": 0\n",
      "    },\n",
      "    \"1\": {\n",
      "      \"t\": \"int\",\n",
      "      \"val\": 1\n",
      "    },\n",
      "    \"7\": {\n",
      "      \"t\": \"int\",\n",
      "      \"val\": 7\n",
      "    }\n",
      "  },\n",
      "  \"code\": [\n",
      "    \"R = X % Y\",\n",
      "    \"? R == 0 : 7\",\n",
      "    \"X = Y\",\n",
      "    \"Y = R\",\n",
      "    \"!: 0\",\n",
      "    \"X = Y + 1\",\n",
      "    \"Y = X + 1\",\n",
      "    \"HALT\"\n",
      "  ],\n",
      "  \"PC\": 0\n",
      "}\n"
     ]
    }
   ],
   "source": [
    "var_table = {\"X\":{'t':'int','val':233},\n",
    "             \"Y\":{'t':'int','val':9},\n",
    "             \"R\":{'t':'int','val':233},\n",
    "             \"0\":{'t':'int','val':0},\n",
    "             \"1\":{'t':'int','val':1},\n",
    "             \"7\":{'t':'int','val':7}}\n",
    "code = [\"R = X % Y\",\n",
    "        \"? R == 0 : 7\",\n",
    "        \"X = Y\",\n",
    "        \"Y = R\",\n",
    "        \"!: 0\",\n",
    "        \"X = Y + 1\",\n",
    "        \"Y = X + 1\",\n",
    "        \"HALT\"]\n",
    "vm_src = json.dumps({\"table\":var_table,\"code\":code},indent=2)\n",
    "vm_runtime = json.loads(vm_src)\n",
    "vm_runtime[\"PC\"] = 0\n",
    "print(json.dumps(vm_runtime,indent=2))\n",
    "with open(\"../examples/src01.json\",\"w\") as fp:\n",
    "        json.dump(vm_runtime,fp,indent=2)"
   ]
  },
  {
   "cell_type": "code",
   "execution_count": 8,
   "id": "206f81da-15e3-4720-bd44-bb8b57f2ca9e",
   "metadata": {
    "tags": []
   },
   "outputs": [
    {
     "name": "stdout",
     "output_type": "stream",
     "text": [
      "===============\n",
      "1  -  R = X % Y\n",
      "2  -  ? R == 0 : 7\n",
      "FALSE R == 0\n",
      "3  -  X = Y\n",
      "4  -  Y = R\n",
      "5  -  !: 0\n",
      "GOTO 0\n",
      "6  -  R = X % Y\n",
      "7  -  ? R == 0 : 7\n",
      "FALSE R == 0\n",
      "8  -  X = Y\n",
      "9  -  Y = R\n",
      "10  -  !: 0\n",
      "GOTO 0\n",
      "11  -  R = X % Y\n",
      "12  -  ? R == 0 : 7\n",
      "TRUE R == 0\n",
      "GOTO 7\n",
      "13  -  HALT\n",
      "===============\n",
      "X : 8\n",
      "Y : 1\n",
      "R : 0\n",
      "\n"
     ]
    }
   ],
   "source": [
    "hist = []\n",
    "cnt = 1\n",
    "vm_runtime = json.loads(vm_src)\n",
    "vm_runtime[\"PC\"] = 0\n",
    "\n",
    "cond_f = {\"==\":lambda x,y:x==y,\"!=\":lambda x,y:x!=y,\">=\":lambda x,y:x>=y,\"<=\":lambda x,y:x<=y,\">\":lambda x,y:x>y,\"<\":lambda x,y:x<y}\n",
    "arith_f = {\"+\":lambda x,y:x+y,\"-\":lambda x,y:x-y,\"*\":lambda x,y:x*y,\"/\":lambda x,y:x//y,\"%\":lambda x,y:x%y}\n",
    "\n",
    "print(\"=\"*15)\n",
    "while (vm_runtime[\"code\"][vm_runtime[\"PC\"]] != \"HALT\"):\n",
    "    line = vm_runtime[\"code\"][vm_runtime[\"PC\"]]\n",
    "    symbols = line.split(\" \")\n",
    "    hist.append(vm_runtime[\"table\"])\n",
    "    vm_runtime[\"PC\"]=vm_runtime[\"PC\"]+1\n",
    "    print(cnt,\" - \",line)\n",
    "    if \"!:\" in symbols:\n",
    "        print(\"GOTO\", vm_runtime[\"table\"][symbols[1]][\"val\"])\n",
    "        vm_runtime[\"PC\"] = vm_runtime[\"table\"][symbols[1]][\"val\"]\n",
    "    elif \"?\" in symbols:\n",
    "        if cond_f[symbols[2]](vm_runtime[\"table\"][symbols[1]][\"val\"],vm_runtime[\"table\"][symbols[3]][\"val\"]):\n",
    "            print(\"TRUE\",symbols[1],symbols[2],symbols[3])\n",
    "            print(\"GOTO\", vm_runtime[\"table\"][symbols[5]][\"val\"])\n",
    "            vm_runtime[\"PC\"] = vm_runtime[\"table\"][symbols[5]][\"val\"]\n",
    "        else:\n",
    "            print(\"FALSE\",symbols[1],symbols[2],symbols[3])\n",
    "    else:\n",
    "        if len(symbols)==3:\n",
    "            vm_runtime[\"table\"][symbols[0]][\"val\"] = vm_runtime[\"table\"][symbols[2]][\"val\"]\n",
    "        elif symbols[3]==\"]\":\n",
    "            vm_runtime[\"table\"][symbols[0]][\"val\"][vm_runtime[\"table\"][symbols[2]][\"val\"]] = vm_runtime[\"table\"][symbols[5]][\"val\"]\n",
    "        elif symbols[3]==\"[\":\n",
    "            vm_runtime[\"table\"][symbols[0]][\"val\"] = vm_runtime[\"table\"][symbols[2]][\"val\"][vm_runtime[\"table\"][symbols[4]][\"val\"]]\n",
    "        elif symbols[3] in arith_f:\n",
    "            vm_runtime[\"table\"][symbols[0]][\"val\"] = arith_f[symbols[3]](vm_runtime[\"table\"][symbols[2]][\"val\"],vm_runtime[\"table\"][symbols[4]][\"val\"])\n",
    "        else:\n",
    "            print(\"! RUNTIME ERROR\")\n",
    "            break\n",
    "    cnt=cnt+1\n",
    "    # print(vm_runtime[\"table\"])\n",
    "print(cnt,\" - \",vm_runtime[\"code\"][vm_runtime[\"PC\"]])\n",
    "print(\"=\"*15)\n",
    "print(\"\".join([\"{} : {}\\n\".format(i[0],i[1][\"val\"]) for i in vm_runtime[\"table\"].items() if reg.match(i[0])==None]))"
   ]
  },
  {
   "cell_type": "code",
   "execution_count": null,
   "id": "49dd4572-dfd2-474f-97cc-00081e9acfbd",
   "metadata": {},
   "outputs": [],
   "source": []
  }
 ],
 "metadata": {
  "kernelspec": {
   "display_name": "Python 3 (ipykernel)",
   "language": "python",
   "name": "python3"
  },
  "language_info": {
   "codemirror_mode": {
    "name": "ipython",
    "version": 3
   },
   "file_extension": ".py",
   "mimetype": "text/x-python",
   "name": "python",
   "nbconvert_exporter": "python",
   "pygments_lexer": "ipython3",
   "version": "3.9.7"
  }
 },
 "nbformat": 4,
 "nbformat_minor": 5
}
